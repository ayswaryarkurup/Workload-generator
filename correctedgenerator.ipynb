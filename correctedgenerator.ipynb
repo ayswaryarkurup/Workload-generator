{
 "metadata": {
  "name": ""
 },
 "nbformat": 3,
 "nbformat_minor": 0,
 "worksheets": [
  {
   "cells": [
    {
     "cell_type": "code",
     "collapsed": false,
     "input": [
      "import random\n",
      "from random import randint\n",
      "from statistics import median\n",
      "import json\n",
      "import csv\n",
      "n = int(raw_input (\"Number of samples (n) = \"))\n",
      "i=1\n",
      "while i <= n:\n",
      "    Ranking = randint(0,5)\n",
      "    Skill = random.choice(open('skill.txt').readlines())\n",
      "    print Ranking\n",
      "    print Skill\n",
      "    i = i+1\n"
     ],
     "language": "python",
     "metadata": {},
     "outputs": [
      {
       "name": "stdout",
       "output_type": "stream",
       "stream": "stdout",
       "text": [
        "Number of samples (n) = 5\n"
       ]
      },
      {
       "output_type": "stream",
       "stream": "stdout",
       "text": [
        "2\n",
        "ASP.Net\n",
        "\n",
        "0\n",
        "Java\n",
        "\n",
        "3\n",
        "Scratch\n",
        "\n",
        "0\n",
        "C\n",
        "\n",
        "2\n",
        "Java\n",
        "\n"
       ]
      }
     ],
     "prompt_number": 52
    },
    {
     "cell_type": "code",
     "collapsed": false,
     "input": [
      "def random_data(n, minimum, maximum):\n",
      "    i = 1\n",
      "    with open(\"worker.csv\", \"w\") as csv_file:\n",
      "        w = csv.writer(csv_file)\n",
      "        while i <= n:\n",
      "            Ranking = randint(0,5)\n",
      "            Skill = random.choice(open('skill.txt').readlines())\n",
      "            w.writerow([i,int(random.uniform(minimum, maximum)),Ranking,Skill])\n",
      "            print Ranking\n",
      "            print Skill\n",
      "            i = i+1\n",
      "    return"
     ],
     "language": "python",
     "metadata": {},
     "outputs": [],
     "prompt_number": 57
    },
    {
     "cell_type": "code",
     "collapsed": false,
     "input": [
      "def normal_data(n, mu, sigma):\n",
      "    i = 1\n",
      "    with open(\"worker.csv\", \"w\") as csv_file:\n",
      "        w = csv.writer(csv_file)\n",
      "        while i <= n:\n",
      "            w.writerow([i,int(random.normalvariate(mu, sigma)),Skill])\n",
      "            i += 1\n",
      "    return"
     ],
     "language": "python",
     "metadata": {},
     "outputs": [],
     "prompt_number": 58
    },
    {
     "cell_type": "code",
     "collapsed": false,
     "input": [
      "def exponential_data(n, a):\n",
      "    i = 1\n",
      "    with open(\"worker.csv\", \"a\") as csv_file:\n",
      "        w = csv.writer(csv_file)\n",
      "        while i <= n:\n",
      "            w.writerow([i,int(random.expovariate(a)),Skill])\n",
      "            i += 1\n",
      "    return"
     ],
     "language": "python",
     "metadata": {},
     "outputs": [],
     "prompt_number": 59
    },
    {
     "cell_type": "code",
     "collapsed": false,
     "input": [
      "data_type = raw_input (\"Choose data type: (R)andom, (N)ormal, (E)xponential: \")\n",
      "if data_type == \"R\" or data_type == \"r\":\n",
      "    minimum = float(raw_input(\"Choose minimum data value: \"))\n",
      "    maximum = float(raw_input(\"Choose maximum data value: \"))\n",
      "    random_data(n, minimum, maximum)\n",
      "elif data_type == \"N\" or data_type == \"n\":\n",
      "    mu = float(raw_input(\"Choose mean: \"))\n",
      "    sigma = float(raw_input(\"Choose std dev: \"))\n",
      "    normal_data(n, mu, sigma)\n",
      "elif data_type == \"E\" or data_type == \"e\":\n",
      "    a = float(raw_input(\"Choose lambda: \"))\n",
      "    exponential_data(n, a)\n",
      "else:\n",
      "    print (\"Sorry, selection unknown.\")"
     ],
     "language": "python",
     "metadata": {},
     "outputs": [
      {
       "name": "stdout",
       "output_type": "stream",
       "stream": "stdout",
       "text": [
        "Choose data type: (R)andom, (N)ormal, (E)xponential: R\n"
       ]
      },
      {
       "name": "stdout",
       "output_type": "stream",
       "stream": "stdout",
       "text": [
        "Choose minimum data value: 3\n"
       ]
      },
      {
       "name": "stdout",
       "output_type": "stream",
       "stream": "stdout",
       "text": [
        "Choose maximum data value: 9\n"
       ]
      },
      {
       "output_type": "stream",
       "stream": "stdout",
       "text": [
        "2\n",
        "Skill\n",
        "\n",
        "1\n",
        "C\n",
        "\n",
        "5\n",
        "C\n",
        "\n",
        "3\n",
        "R\n",
        "\n",
        "3\n",
        "R\n",
        "\n"
       ]
      }
     ],
     "prompt_number": 60
    },
    {
     "cell_type": "code",
     "collapsed": false,
     "input": [
      "print (\"Data has been exported to worker.csv\")"
     ],
     "language": "python",
     "metadata": {},
     "outputs": [
      {
       "output_type": "stream",
       "stream": "stdout",
       "text": [
        "Data has been exported to worker.csv\n"
       ]
      }
     ],
     "prompt_number": 48
    },
    {
     "cell_type": "code",
     "collapsed": false,
     "input": [],
     "language": "python",
     "metadata": {},
     "outputs": []
    }
   ],
   "metadata": {}
  }
 ]
}